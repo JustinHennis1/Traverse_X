{
 "cells": [
  {
   "cell_type": "code",
   "execution_count": 14,
   "metadata": {},
   "outputs": [
    {
     "name": "stdout",
     "output_type": "stream",
     "text": [
      "               City       State\n",
      "0     New York City    New York\n",
      "75         Columbus        Ohio\n",
      "339          Dallas       Texas\n",
      "654          Denver    Colorado\n",
      "979     Los Angeles  California\n",
      "1193      Las Vegas      Nevada\n",
      "1530        Seattle  Washington\n",
      "1849          Miami     Florida\n"
     ]
    }
   ],
   "source": [
    "import pandas as pd\n",
    "\n",
    "\n",
    "df = pd.read_csv('city_data.csv')\n",
    "\n",
    "\n",
    "uniques = df[['City', 'State']].drop_duplicates()\n",
    "\n",
    "\n",
    "print(uniques)\n"
   ]
  }
 ],
 "metadata": {
  "kernelspec": {
   "display_name": "venv",
   "language": "python",
   "name": "python3"
  },
  "language_info": {
   "codemirror_mode": {
    "name": "ipython",
    "version": 3
   },
   "file_extension": ".py",
   "mimetype": "text/x-python",
   "name": "python",
   "nbconvert_exporter": "python",
   "pygments_lexer": "ipython3",
   "version": "3.11.0"
  }
 },
 "nbformat": 4,
 "nbformat_minor": 2
}
